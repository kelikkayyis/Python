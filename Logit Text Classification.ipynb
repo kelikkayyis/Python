{
 "cells": [
  {
   "cell_type": "code",
   "execution_count": 2,
   "metadata": {},
   "outputs": [
    {
     "name": "stderr",
     "output_type": "stream",
     "text": [
      "[nltk_data] Downloading package stopwords to\n",
      "[nltk_data]     C:\\Users\\ASUS\\AppData\\Roaming\\nltk_data...\n",
      "[nltk_data]   Package stopwords is already up-to-date!\n"
     ]
    }
   ],
   "source": [
    "import numpy as np\n",
    "import pandas as pd\n",
    "import seaborn as sns\n",
    "import matplotlib.pyplot as plt\n",
    "import re\n",
    "import string\n",
    "import nltk\n",
    "nltk.download(\"stopwords\")\n",
    "from nltk.corpus import stopwords\n",
    "from sklearn.preprocessing import LabelEncoder\n",
    "from sklearn.feature_extraction.text import CountVectorizer, TfidfVectorizer\n",
    "from sklearn.model_selection import train_test_split\n",
    "from sklearn import metrics\n",
    "\n",
    "from sklearn.tree import DecisionTreeClassifier\n",
    "from sklearn.linear_model import LogisticRegression\n"
   ]
  },
  {
   "cell_type": "markdown",
   "metadata": {},
   "source": [
    "# Import Data"
   ]
  },
  {
   "cell_type": "code",
   "execution_count": 3,
   "metadata": {},
   "outputs": [
    {
     "name": "stdout",
     "output_type": "stream",
     "text": [
      "<class 'pandas.core.frame.DataFrame'>\n",
      "Int64Index: 9964 entries, 0 to 9999\n",
      "Data columns (total 2 columns):\n",
      " #   Column           Non-Null Count  Dtype \n",
      "---  ------           --------------  ----- \n",
      " 0   article_topic    9964 non-null   object\n",
      " 1   article_content  9964 non-null   object\n",
      "dtypes: object(2)\n",
      "memory usage: 233.5+ KB\n"
     ]
    }
   ],
   "source": [
    "df = pd.read_csv(\"data.csv\").drop(columns='article_id')\n",
    "df = df.dropna()\n",
    "df.info()"
   ]
  },
  {
   "cell_type": "markdown",
   "metadata": {},
   "source": [
    "# Quick View"
   ]
  },
  {
   "cell_type": "code",
   "execution_count": 4,
   "metadata": {},
   "outputs": [
    {
     "data": {
      "text/plain": [
       "array(['Bisnis', 'Bojonegoro', 'Ekonomi', 'Haji', 'Health', 'Hiburan',\n",
       "       'Horor', 'Hukum', 'Internasional', 'Jakarta', 'K-Pop', 'KPK',\n",
       "       'Kesehatan', 'Keuangan', 'Lifestyle', 'MotoGP', 'Obat-obatan',\n",
       "       'Otomotif', 'Pendidikan', 'Personal', 'Pilgub Jatim', 'Politik',\n",
       "       'Regional', 'Sains', 'Sejarah', 'Sepak Bola', 'Sports',\n",
       "       'Teknologi', 'Travel'], dtype=object)"
      ]
     },
     "execution_count": 4,
     "metadata": {},
     "output_type": "execute_result"
    }
   ],
   "source": [
    "topic = df['article_topic'].unique()\n",
    "topic.sort()\n",
    "topic # ada 29 kategori"
   ]
  },
  {
   "cell_type": "code",
   "execution_count": 5,
   "metadata": {},
   "outputs": [
    {
     "data": {
      "image/png": "[encoded data removed]",
      "text/plain": [
       "<Figure size 720x288 with 1 Axes>"
      ]
     },
     "metadata": {
      "needs_background": "light"
     },
     "output_type": "display_data"
    }
   ],
   "source": [
    "plt.figure(figsize=(10,4))\n",
    "df.article_topic.value_counts().plot(kind='bar');"
   ]
  },
  {
   "cell_type": "markdown",
   "metadata": {},
   "source": [
    "# Cleaning Data"
   ]
  },
  {
   "cell_type": "markdown",
   "metadata": {},
   "source": [
    "membersihkan data dari :\n",
    "1. punctuation (simbol atau karakter tidak terpakai)\n",
    "2. url (https atau wwww yang berulang dan tidak dipakai)\n",
    "3. stopword (kata sambung, awalan, akhiran yang berulang dan tidak bermakna)"
   ]
  },
  {
   "cell_type": "code",
   "execution_count": 6,
   "metadata": {},
   "outputs": [
    {
     "data": {
      "text/plain": [
       "'!\"#$%&\\'()*+,-./:;<=>?@[\\\\]^_`{|}~'"
      ]
     },
     "execution_count": 6,
     "metadata": {},
     "output_type": "execute_result"
    }
   ],
   "source": [
    "string.punctuation"
   ]
  },
  {
   "cell_type": "code",
   "execution_count": 7,
   "metadata": {},
   "outputs": [],
   "source": [
    "def hapus_url(text):\n",
    "    url = re.compile(r\"https?://\\S+|www\\.\\S+\")\n",
    "    return url.sub(r\"\", text)\n",
    "\n",
    "def hapus_punct(text):\n",
    "    translator = str.maketrans(\"\",\"\", string.punctuation)\n",
    "    return text.translate(translator)\n",
    "\n",
    "stop = set(stopwords.words('indonesian'))\n",
    "def hapus_stopwords(text):\n",
    "    filtered_words = [word.lower() for word in text.split() if word.lower() not in stop]\n",
    "    return \" \".join(filtered_words)\n",
    "\n",
    "def clean_text(text):\n",
    "    text = hapus_url(text)\n",
    "    text = hapus_punct(text)\n",
    "    text = hapus_stopwords(text)\n",
    "    return text"
   ]
  },
  {
   "cell_type": "code",
   "execution_count": 8,
   "metadata": {},
   "outputs": [
    {
     "name": "stdout",
     "output_type": "stream",
     "text": [
      "jumlah karakter sebelum dibersihkan ;  248424\n"
     ]
    }
   ],
   "source": [
    "from collections import Counter\n",
    "\n",
    "def counter_word(text_col):\n",
    "    count = Counter()\n",
    "    for text in text_col.values:\n",
    "        for word in text.split():\n",
    "            count[word] += 1\n",
    "    return count\n",
    "\n",
    "counter_before = counter_word(df.article_content)\n",
    "\n",
    "print('jumlah karakter sebelum dibersihkan ; ' , len(counter_before))"
   ]
  },
  {
   "cell_type": "code",
   "execution_count": 9,
   "metadata": {},
   "outputs": [],
   "source": [
    "# menghapus stopword, url & punctuation\n",
    "df['article_content'] = df.article_content.apply(clean_text)"
   ]
  },
  {
   "cell_type": "code",
   "execution_count": 10,
   "metadata": {},
   "outputs": [
    {
     "name": "stdout",
     "output_type": "stream",
     "text": [
      "jumlah karakter setelah dibersihkan ;  147340\n"
     ]
    }
   ],
   "source": [
    "counter_after = counter_word(df.article_content)\n",
    "\n",
    "print('jumlah karakter setelah dibersihkan ; ' , len(counter_after))"
   ]
  },
  {
   "cell_type": "code",
   "execution_count": 11,
   "metadata": {},
   "outputs": [
    {
     "data": {
      "text/plain": [
       "0    kepolisian inggris memburu pelaku meledakkan b...\n",
       "1    layanan transaksi jalan tol sistem nontunai ok...\n",
       "2    rabu 238 spesial tagar hashtag 23 agustus mena...\n",
       "3    indonesia memiliki cadangan bahan bakar minyak...\n",
       "4    selasa 18 pedangdut ridho rhoma menjalani sida...\n",
       "Name: article_content, dtype: object"
      ]
     },
     "execution_count": 11,
     "metadata": {},
     "output_type": "execute_result"
    }
   ],
   "source": [
    "# melihat text yang terlah diberishkan\n",
    "df['article_content'].head()"
   ]
  },
  {
   "cell_type": "code",
   "execution_count": 12,
   "metadata": {},
   "outputs": [
    {
     "data": {
      "text/plain": [
       "[('indonesia', 12228),\n",
       " ('haji', 10773),\n",
       " ('2017', 8954),\n",
       " ('orang', 7227),\n",
       " ('jemaah', 7214)]"
      ]
     },
     "execution_count": 12,
     "metadata": {},
     "output_type": "execute_result"
    }
   ],
   "source": [
    "# 5 kata yang paling serting muncul\n",
    "counter_after.most_common(5)"
   ]
  },
  {
   "cell_type": "markdown",
   "metadata": {},
   "source": [
    "# Encode Label (Topic)"
   ]
  },
  {
   "cell_type": "code",
   "execution_count": 13,
   "metadata": {},
   "outputs": [],
   "source": [
    "dict = {'Bisnis':1, 'Bojonegoro':2, 'Ekonomi':3, 'Haji':4, 'Health':5, 'Hiburan':6,\n",
    "       'Horor':7, 'Hukum':8, 'Internasional':9, 'Jakarta':10, 'K-Pop':11, 'KPK':12,\n",
    "       'Kesehatan':13, 'Keuangan':14, 'Lifestyle':15, 'MotoGP':16, 'Obat-obatan':17,\n",
    "       'Otomotif':18, 'Pendidikan':19, 'Personal':20, 'Pilgub Jatim':21, 'Politik':22,\n",
    "       'Regional':23, 'Sains':24, 'Sejarah':25, 'Sepak Bola':26, 'Sports':27,\n",
    "       'Teknologi':28, 'Travel':29}"
   ]
  },
  {
   "cell_type": "code",
   "execution_count": 14,
   "metadata": {},
   "outputs": [
    {
     "data": {
      "text/html": [
       "<div>\n",
       "<style scoped>\n",
       "    .dataframe tbody tr th:only-of-type {\n",
       "        vertical-align: middle;\n",
       "    }\n",
       "\n",
       "    .dataframe tbody tr th {\n",
       "        vertical-align: top;\n",
       "    }\n",
       "\n",
       "    .dataframe thead th {\n",
       "        text-align: right;\n",
       "    }\n",
       "</style>\n",
       "<table border=\"1\" class=\"dataframe\">\n",
       "  <thead>\n",
       "    <tr style=\"text-align: right;\">\n",
       "      <th></th>\n",
       "      <th>article_topic</th>\n",
       "      <th>article_content</th>\n",
       "    </tr>\n",
       "  </thead>\n",
       "  <tbody>\n",
       "    <tr>\n",
       "      <th>0</th>\n",
       "      <td>9</td>\n",
       "      <td>kepolisian inggris memburu pelaku meledakkan b...</td>\n",
       "    </tr>\n",
       "    <tr>\n",
       "      <th>1</th>\n",
       "      <td>3</td>\n",
       "      <td>layanan transaksi jalan tol sistem nontunai ok...</td>\n",
       "    </tr>\n",
       "    <tr>\n",
       "      <th>2</th>\n",
       "      <td>28</td>\n",
       "      <td>rabu 238 spesial tagar hashtag 23 agustus mena...</td>\n",
       "    </tr>\n",
       "    <tr>\n",
       "      <th>3</th>\n",
       "      <td>3</td>\n",
       "      <td>indonesia memiliki cadangan bahan bakar minyak...</td>\n",
       "    </tr>\n",
       "    <tr>\n",
       "      <th>4</th>\n",
       "      <td>6</td>\n",
       "      <td>selasa 18 pedangdut ridho rhoma menjalani sida...</td>\n",
       "    </tr>\n",
       "  </tbody>\n",
       "</table>\n",
       "</div>"
      ],
      "text/plain": [
       "   article_topic                                    article_content\n",
       "0              9  kepolisian inggris memburu pelaku meledakkan b...\n",
       "1              3  layanan transaksi jalan tol sistem nontunai ok...\n",
       "2             28  rabu 238 spesial tagar hashtag 23 agustus mena...\n",
       "3              3  indonesia memiliki cadangan bahan bakar minyak...\n",
       "4              6  selasa 18 pedangdut ridho rhoma menjalani sida..."
      ]
     },
     "execution_count": 14,
     "metadata": {},
     "output_type": "execute_result"
    }
   ],
   "source": [
    "df = df.replace({\"article_topic\": dict})\n",
    "df.head()"
   ]
  },
  {
   "cell_type": "code",
   "execution_count": 15,
   "metadata": {},
   "outputs": [],
   "source": [
    "text = df['article_content'].values.tolist()\n",
    "label = df['article_topic'].values"
   ]
  },
  {
   "cell_type": "markdown",
   "metadata": {},
   "source": [
    "# Vectorizer (Content)"
   ]
  },
  {
   "cell_type": "markdown",
   "metadata": {},
   "source": [
    "mengubah data text menjadi bentuk vektor"
   ]
  },
  {
   "cell_type": "code",
   "execution_count": 16,
   "metadata": {},
   "outputs": [],
   "source": [
    "tfidf_vectorizer = TfidfVectorizer().fit(text)\n",
    "tfidf_text = tfidf_vectorizer.transform(text)"
   ]
  },
  {
   "cell_type": "markdown",
   "metadata": {},
   "source": [
    "# Split data train & test"
   ]
  },
  {
   "cell_type": "code",
   "execution_count": 17,
   "metadata": {},
   "outputs": [
    {
     "data": {
      "text/plain": [
       "((7971, 147304), (1993, 147304), (7971,), (1993,))"
      ]
     },
     "execution_count": 17,
     "metadata": {},
     "output_type": "execute_result"
    }
   ],
   "source": [
    "X_train,X_test,y_train,y_test = train_test_split(tfidf_text,label, test_size= 0.2,random_state= 2)\n",
    "X_train.shape,X_test.shape,y_train.shape,y_test.shape"
   ]
  },
  {
   "cell_type": "markdown",
   "metadata": {},
   "source": [
    "# Train Models"
   ]
  },
  {
   "cell_type": "code",
   "execution_count": 19,
   "metadata": {},
   "outputs": [
    {
     "name": "stdout",
     "output_type": "stream",
     "text": [
      "Test Accuracy: 0.8144\n",
      "               precision    recall  f1-score   support\n",
      "\n",
      "       Bisnis       0.00      0.00      0.00         0\n",
      "   Bojonegoro       0.89      0.91      0.90        44\n",
      "      Ekonomi       0.98      0.80      0.88       438\n",
      "         Haji       0.99      0.98      0.99       286\n",
      "       Health       0.25      0.50      0.33        14\n",
      "      Hiburan       0.97      0.70      0.81       400\n",
      "        Horor       0.00      0.00      0.00         0\n",
      "        Hukum       0.21      1.00      0.35         3\n",
      "Internasional       0.84      0.80      0.82       168\n",
      "      Jakarta       0.00      0.00      0.00         0\n",
      "        K-Pop       0.00      0.00      0.00         0\n",
      "          KPK       0.83      1.00      0.91         5\n",
      "    Kesehatan       0.50      0.38      0.43        40\n",
      "     Keuangan       0.00      0.00      0.00         0\n",
      "    Lifestyle       0.74      0.71      0.72       116\n",
      "       MotoGP       0.12      1.00      0.22         1\n",
      "  Obat-obatan       0.00      0.00      0.00         0\n",
      "     Otomotif       0.70      1.00      0.82        30\n",
      "   Pendidikan       0.42      1.00      0.59         5\n",
      "     Personal       0.00      0.00      0.00         0\n",
      " Pilgub Jatim       0.33      1.00      0.50         1\n",
      "      Politik       0.33      0.90      0.49        10\n",
      "     Regional       0.00      0.00      0.00         0\n",
      "        Sains       0.25      0.88      0.39         8\n",
      "      Sejarah       0.00      0.00      0.00         0\n",
      "   Sepak Bola       0.97      0.85      0.91       276\n",
      "       Sports       0.49      0.82      0.61        55\n",
      "    Teknologi       0.85      0.97      0.91        91\n",
      "       Travel       0.15      1.00      0.27         2\n",
      "\n",
      "     accuracy                           0.81      1993\n",
      "    macro avg       0.41      0.59      0.44      1993\n",
      " weighted avg       0.90      0.81      0.85      1993\n",
      "\n"
     ]
    },
    {
     "name": "stderr",
     "output_type": "stream",
     "text": [
      "C:\\Users\\ASUS\\AppData\\Roaming\\Python\\Python39\\site-packages\\sklearn\\metrics\\_classification.py:1308: UndefinedMetricWarning: Recall and F-score are ill-defined and being set to 0.0 in labels with no true samples. Use `zero_division` parameter to control this behavior.\n",
      "  _warn_prf(average, modifier, msg_start, len(result))\n",
      "C:\\Users\\ASUS\\AppData\\Roaming\\Python\\Python39\\site-packages\\sklearn\\metrics\\_classification.py:1308: UndefinedMetricWarning: Recall and F-score are ill-defined and being set to 0.0 in labels with no true samples. Use `zero_division` parameter to control this behavior.\n",
      "  _warn_prf(average, modifier, msg_start, len(result))\n",
      "C:\\Users\\ASUS\\AppData\\Roaming\\Python\\Python39\\site-packages\\sklearn\\metrics\\_classification.py:1308: UndefinedMetricWarning: Recall and F-score are ill-defined and being set to 0.0 in labels with no true samples. Use `zero_division` parameter to control this behavior.\n",
      "  _warn_prf(average, modifier, msg_start, len(result))\n"
     ]
    }
   ],
   "source": [
    "model = LogisticRegression(multi_class='multinomial',solver='newton-cg',max_iter=300,penalty=\"l2\").fit(X_train,y_train)\n",
    "pred_LR = model.predict(X_test)\n",
    "\n",
    "print(\"Test Accuracy: %.4f\" % metrics.accuracy_score(pred_LR, y_test))\n",
    "print(metrics.classification_report(pred_LR, y_test, target_names=topic))"
   ]
  },
  {
   "cell_type": "code",
   "execution_count": 21,
   "metadata": {},
   "outputs": [
    {
     "data": {
      "text/plain": [
       "['model.pkl']"
      ]
     },
     "execution_count": 21,
     "metadata": {},
     "output_type": "execute_result"
    }
   ],
   "source": [
    "import joblib\n",
    "\n",
    "joblib.dump(model, 'model.pkl')"
   ]
  },
  {
   "cell_type": "markdown",
   "metadata": {},
   "source": [
    "# Test Model\n"
   ]
  },
  {
   "cell_type": "code",
   "execution_count": 23,
   "metadata": {},
   "outputs": [],
   "source": [
    "joblib_model = joblib.load('model.pkl')"
   ]
  },
  {
   "cell_type": "code",
   "execution_count": 25,
   "metadata": {},
   "outputs": [],
   "source": [
    "def prediksi(text):\n",
    "    text = clean_text(text)\n",
    "    tfidf_vector = tfidf_vectorizer.transform([text])\n",
    "    pred = joblib_model.predict(tfidf_vector)\n",
    "    \n",
    "    if pred == 1: \n",
    "        article_topic = 'Bisnis'\n",
    "    elif pred == 2: \n",
    "        article_topic = 'Bojonegoro'\n",
    "    elif pred == 3: \n",
    "        article_topic = 'Ekonomi'\n",
    "    elif pred == 4: \n",
    "        article_topic = 'Haji'\n",
    "    elif pred == 5: \n",
    "        article_topic = 'Health'\n",
    "    elif pred == 6: \n",
    "        article_topic = 'Hiburan'\n",
    "    elif pred == 7: \n",
    "        article_topic = 'Horor'\n",
    "    elif pred == 8: \n",
    "        article_topic = 'Hukum'\n",
    "    elif pred == 9: \n",
    "        article_topic = 'Internasional'        \n",
    "    elif pred ==10:\n",
    "        article_topic = 'Jakarta'\n",
    "    elif pred ==11: \n",
    "        article_topic = 'K-Pop'\n",
    "    elif pred ==12: \n",
    "        article_topic = 'KPK'\n",
    "    elif pred ==13: \n",
    "        article_topic = 'Kesehatan'\n",
    "    elif pred ==14: \n",
    "        article_topic = 'Keuangan'\n",
    "    elif pred ==15: \n",
    "        article_topic = 'Lifestyle'\n",
    "    elif pred ==16: \n",
    "        article_topic = 'MotoGP'\n",
    "    elif pred ==17: \n",
    "        article_topic = 'Obat-obatan'\n",
    "    elif pred ==18: \n",
    "        article_topic = 'Otomotif'        \n",
    "    elif pred ==19:\n",
    "        article_topic = 'Pendidikan'\n",
    "    elif pred ==20:\n",
    "        article_topic = 'Personal'\n",
    "    elif pred ==21: \n",
    "        article_topic = 'Pilgub Jatim'\n",
    "    elif pred ==22: \n",
    "        article_topic = 'Politik'\n",
    "    elif pred ==23: \n",
    "        article_topic = 'Regional'\n",
    "    elif pred ==24: \n",
    "        article_topic = 'Sains'\n",
    "    elif pred ==25: \n",
    "        article_topic = 'Sejarah'\n",
    "    elif pred ==26: \n",
    "        article_topic = 'Sepak Bola'\n",
    "    elif pred ==27: \n",
    "        article_topic = 'Sports'\n",
    "    elif pred ==28: \n",
    "        article_topic = 'Teknologi'        \n",
    "    elif pred ==29:\n",
    "        article_topic = 'Travel'\n",
    "    else:\n",
    "        article_topic = 'Tidak Ada'\n",
    "    return article_topic\n"
   ]
  },
  {
   "cell_type": "markdown",
   "metadata": {},
   "source": [
    "## Single Testing"
   ]
  },
  {
   "cell_type": "code",
   "execution_count": 26,
   "metadata": {},
   "outputs": [
    {
     "data": {
      "text/plain": [
       "'Anggota Tim Pembimbing Ibadah Haji Indonesia (TPIHI) Sektor 7, Rizhy Firmansyah menyebutkan, jamaah haji yang memilih tarwiyah dikenakan biaya SAR250 oleh maktab. Fasilitas yang diperoleh berupa transportasi ke Mina dan dari Mina menuju Arafah. Peserta juga akan mendapatkan makan sebanyak dua kali.'"
      ]
     },
     "execution_count": 26,
     "metadata": {},
     "output_type": "execute_result"
    }
   ],
   "source": [
    "test1 = 'Anggota Tim Pembimbing Ibadah Haji Indonesia (TPIHI) Sektor 7, Rizhy Firmansyah menyebutkan, jamaah haji yang memilih tarwiyah dikenakan biaya SAR250 oleh maktab. Fasilitas yang diperoleh berupa transportasi ke Mina dan dari Mina menuju Arafah. Peserta juga akan mendapatkan makan sebanyak dua kali.'\n",
    "test1"
   ]
  },
  {
   "cell_type": "code",
   "execution_count": 27,
   "metadata": {},
   "outputs": [
    {
     "data": {
      "text/plain": [
       "'Haji'"
      ]
     },
     "execution_count": 27,
     "metadata": {},
     "output_type": "execute_result"
    }
   ],
   "source": [
    "prediksi(test1)"
   ]
  },
  {
   "cell_type": "code",
   "execution_count": 28,
   "metadata": {},
   "outputs": [
    {
     "data": {
      "text/plain": [
       "\"Gol Chelsea tercipta via Mason Mount (70'). Sementara Everton membalas lewat gol Jarrad Branthwaite (74'). Hasil ini membuat Chelsea harus puas di peringkat ketiga klasemen dengan 37 poin, sementara Everton ada di nomor 14 berkat koleksi 19 angka.Chelsea tampil mendominasi di laga ini. Tetapi, mereka kesulitan mengalahkan kiper Jordan Pickford untuk mencetak gol. Pickford sendiri mencatatkan sembilan penyelamatan di laga tadi.\""
      ]
     },
     "execution_count": 28,
     "metadata": {},
     "output_type": "execute_result"
    }
   ],
   "source": [
    "test2 = \"Gol Chelsea tercipta via Mason Mount (70'). Sementara Everton membalas lewat gol Jarrad Branthwaite (74'). Hasil ini membuat Chelsea harus puas di peringkat ketiga klasemen dengan 37 poin, sementara Everton ada di nomor 14 berkat koleksi 19 angka.Chelsea tampil mendominasi di laga ini. Tetapi, mereka kesulitan mengalahkan kiper Jordan Pickford untuk mencetak gol. Pickford sendiri mencatatkan sembilan penyelamatan di laga tadi.\"\n",
    "test2"
   ]
  },
  {
   "cell_type": "code",
   "execution_count": 29,
   "metadata": {},
   "outputs": [
    {
     "data": {
      "text/plain": [
       "'Sepak Bola'"
      ]
     },
     "execution_count": 29,
     "metadata": {},
     "output_type": "execute_result"
    }
   ],
   "source": [
    "prediksi(test2) # prediksi label"
   ]
  },
  {
   "cell_type": "code",
   "execution_count": 30,
   "metadata": {},
   "outputs": [
    {
     "data": {
      "text/plain": [
       "'Hal itu ia ungkapkan menanggapi hasil rapat Komisi XI dengan Kementerian Keuangan pada Rabu (15/12) yang membahas tentang Tambahan PMN 2021 dan PMN 2022. Dari rapat itu terungkap Tambahan PMN 2021 masing-masing untuk Hutama Karya Rp 9,1 triliun, Waskita Karya Rp 7,9 triliun, Kereta Api Indonesia Rp 6,9 triliun, Badan Bank Tanah Rp 1 triliun, Indonesia Investment Authority Rp 15 triliun, dan Lembaga Manajemen Aset Negara Rp 3,3 triliun. Totalnya, tambahan PMN 2021 ini mencapai Rp 43,2 triliun. Salah satu persoalan PMN yang sempat ramai adalah ketika PT KAI mendapatkan tambahan modal negara untuk proyek Kereta Cepat Jakarta-Bandung (KCJB) Rp 4,3 triliun. Manajemen KAI menyebut, total kebutuhan biaya proyek tersebut Rp 6,9 triliun.'"
      ]
     },
     "execution_count": 30,
     "metadata": {},
     "output_type": "execute_result"
    }
   ],
   "source": [
    "test3 =\"Hal itu ia ungkapkan menanggapi hasil rapat Komisi XI dengan Kementerian Keuangan pada Rabu (15/12) yang membahas tentang Tambahan PMN 2021 dan PMN 2022. Dari rapat itu terungkap Tambahan PMN 2021 masing-masing untuk Hutama Karya Rp 9,1 triliun, Waskita Karya Rp 7,9 triliun, Kereta Api Indonesia Rp 6,9 triliun, Badan Bank Tanah Rp 1 triliun, Indonesia Investment Authority Rp 15 triliun, dan Lembaga Manajemen Aset Negara Rp 3,3 triliun. Totalnya, tambahan PMN 2021 ini mencapai Rp 43,2 triliun. Salah satu persoalan PMN yang sempat ramai adalah ketika PT KAI mendapatkan tambahan modal negara untuk proyek Kereta Cepat Jakarta-Bandung (KCJB) Rp 4,3 triliun. Manajemen KAI menyebut, total kebutuhan biaya proyek tersebut Rp 6,9 triliun.\"\n",
    "test3"
   ]
  },
  {
   "cell_type": "code",
   "execution_count": 31,
   "metadata": {},
   "outputs": [
    {
     "data": {
      "text/plain": [
       "'Ekonomi'"
      ]
     },
     "execution_count": 31,
     "metadata": {},
     "output_type": "execute_result"
    }
   ],
   "source": [
    "prediksi(test3) # prediksi label"
   ]
  }
 ],
 "metadata": {
  "interpreter": {
   "hash": "ac59ebe37160ed0dfa835113d9b8498d9f09ceb179beaac4002f036b9467c963"
  },
  "kernelspec": {
   "display_name": "Python 3.9.7 64-bit",
   "language": "python",
   "name": "python3"
  },
  "language_info": {
   "codemirror_mode": {
    "name": "ipython",
    "version": 3
   },
   "file_extension": ".py",
   "mimetype": "text/x-python",
   "name": "python",
   "nbconvert_exporter": "python",
   "pygments_lexer": "ipython3",
   "version": "3.9.7"
  },
  "orig_nbformat": 4
 },
 "nbformat": 4,
 "nbformat_minor": 2
}
